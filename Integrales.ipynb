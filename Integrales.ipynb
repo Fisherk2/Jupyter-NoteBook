{
 "cells": [
  {
   "cell_type": "markdown",
   "metadata": {},
   "source": [
    "## INTEGRALES POR MEDIO DEL METODO DE MONTECARLO"
   ]
  },
  {
   "cell_type": "markdown",
   "metadata": {},
   "source": [
    "### Calculo de pi:"
   ]
  },
  {
   "cell_type": "code",
   "execution_count": 12,
   "metadata": {},
   "outputs": [],
   "source": [
    "import random\n",
    "\n",
    "n=10000000\n",
    "a=0.0\n",
    "b=0.0\n",
    "r=1.0\n",
    "x_neg=a-r\n",
    "x_pos=a+r\n",
    "y_neg=b-r\n",
    "y_pos=b+r\n",
    "contador=0.0"
   ]
  },
  {
   "cell_type": "code",
   "execution_count": 13,
   "metadata": {},
   "outputs": [],
   "source": [
    "for i in range(0,n):\n",
    "    x=random.uniform(x_neg,x_pos)\n",
    "    y=random.uniform(y_neg,y_pos)\n",
    "    if x*x+y*y<=1.0:\n",
    "        contador+=1"
   ]
  },
  {
   "cell_type": "code",
   "execution_count": 14,
   "metadata": {},
   "outputs": [
    {
     "name": "stdout",
     "output_type": "stream",
     "text": [
      "resultado es  3.1417556\n"
     ]
    }
   ],
   "source": [
    "result = (contador / float(n)) * 4\n",
    "print (\"resultado es \",result)"
   ]
  },
  {
   "cell_type": "markdown",
   "metadata": {},
   "source": [
    "### Calculo de area bajo la curva"
   ]
  },
  {
   "cell_type": "markdown",
   "metadata": {},
   "source": [
    "##### Funcion"
   ]
  },
  {
   "cell_type": "code",
   "execution_count": 1,
   "metadata": {},
   "outputs": [],
   "source": [
    "def funcion (float):\n",
    "    valor=x*x          #FUNCION X al cuadrado\n",
    "    return valor\n"
   ]
  },
  {
   "cell_type": "markdown",
   "metadata": {},
   "source": [
    "#### Parametros"
   ]
  },
  {
   "cell_type": "code",
   "execution_count": 2,
   "metadata": {},
   "outputs": [],
   "source": [
    "import random\n",
    "# Numero aproximado de intentos\n",
    "n=1000000\n",
    "# Rangos [0,1]\n",
    "x_min=0.0\n",
    "x_max=1.0\n",
    "y_min=0.0\n",
    "y_max=1.0\n",
    "\n",
    "contador=0"
   ]
  },
  {
   "cell_type": "markdown",
   "metadata": {},
   "source": [
    "#### Metodo de montecarlo"
   ]
  },
  {
   "cell_type": "code",
   "execution_count": 3,
   "metadata": {},
   "outputs": [],
   "source": [
    "for i in range(0,n):\n",
    "    x=random.uniform(x_min,x_max)\n",
    "    y=random.uniform(y_min,y_max)\n",
    "    if funcion(x)>=y:                         \n",
    "        contador+=1"
   ]
  },
  {
   "cell_type": "code",
   "execution_count": 4,
   "metadata": {},
   "outputs": [
    {
     "name": "stdout",
     "output_type": "stream",
     "text": [
      "Resultado es:  0.33308\n"
     ]
    }
   ],
   "source": [
    "resultado = contador/float(n)\n",
    "print(\"Resultado es: \",resultado)"
   ]
  }
 ],
 "metadata": {
  "kernelspec": {
   "display_name": "Python 3.10.8 64-bit (microsoft store)",
   "language": "python",
   "name": "python3"
  },
  "language_info": {
   "codemirror_mode": {
    "name": "ipython",
    "version": 3
   },
   "file_extension": ".py",
   "mimetype": "text/x-python",
   "name": "python",
   "nbconvert_exporter": "python",
   "pygments_lexer": "ipython3",
   "version": "3.10.8"
  },
  "orig_nbformat": 4,
  "vscode": {
   "interpreter": {
    "hash": "171002ca0d6c473a5ff791bbb5aa7a877aeef24b277cda4853af5f38e9943e22"
   }
  }
 },
 "nbformat": 4,
 "nbformat_minor": 2
}
